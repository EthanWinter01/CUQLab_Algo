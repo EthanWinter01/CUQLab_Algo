{
 "cells": [
  {
   "cell_type": "markdown",
   "metadata": {},
   "source": [
    "### Shor's algorithm by P'B\n",
    "solved on — 10/17/2024 11:42 PM\n",
    "\n",
    "This file include:\n",
    "- Classical brute force solution"
   ]
  },
  {
   "cell_type": "code",
   "execution_count": 10,
   "metadata": {},
   "outputs": [],
   "source": [
    "import math\n",
    "import random"
   ]
  },
  {
   "cell_type": "code",
   "execution_count": 11,
   "metadata": {},
   "outputs": [],
   "source": [
    "# basic gcd\n",
    "def gcd(a,b):\n",
    "    if(b==0):\n",
    "        return int(a)\n",
    "    return int(gcd(b,a%b))\n",
    "\n",
    "# basic a^n mod m\n",
    "def pow_mod(a,n,k):\n",
    "    # base case\n",
    "    if(n<=1):\n",
    "        return int(math.pow(a,n)%k)\n",
    "    # recursive case\n",
    "    if(n%2==0):\n",
    "        tmp = pow_mod(a,n//2,k)\n",
    "        return int((tmp * tmp) % k)\n",
    "    else:\n",
    "        tmp = pow_mod(a,n//2,k)\n",
    "        return int((((tmp * tmp) % k) * a) % k)\n",
    "\n",
    "# basic a^n\n",
    "def power(a,n):\n",
    "    # base case\n",
    "    if(n<=1):\n",
    "        return int(math.pow(a,n))\n",
    "    # recursive case\n",
    "    if(n%2==0):\n",
    "        tmp = power(a,n//2)\n",
    "        return int(tmp * tmp)\n",
    "    else:\n",
    "        tmp = power(a,n//2)\n",
    "        return int((tmp * tmp) * a)"
   ]
  },
  {
   "cell_type": "code",
   "execution_count": 12,
   "metadata": {},
   "outputs": [],
   "source": [
    "\"\"\"\n",
    "Order finding using Brute Force\n",
    "_______________________________\n",
    "complexity: O(?)\n",
    "technique:  brute-force\n",
    "\n",
    "\"\"\"\n",
    "\n",
    "def order_finding1(a,N):\n",
    "    # check function work properly\n",
    "    # print(\"  start order_finding1\")\n",
    "    r=1\n",
    "    tmp=1\n",
    "    while(True):\n",
    "        tmp=(tmp*a)%N\n",
    "        if(tmp==1):\n",
    "            # found\n",
    "            # print(\"    found r =\",r)\n",
    "            # print(\"  end order_finding1\")\n",
    "            return r\n",
    "        r+=1"
   ]
  },
  {
   "cell_type": "code",
   "execution_count": 13,
   "metadata": {},
   "outputs": [],
   "source": [
    "\"\"\"\n",
    "BRUTE FORCE SHOR\n",
    "\"\"\"\n",
    "def ClassicalShorSimulator(N):\n",
    "    # check N value\n",
    "    # print(\"N =\",N)\n",
    "\n",
    "    # initialization \n",
    "    ans0=0\n",
    "    ans1=0\n",
    "    iter = 0\n",
    "    status=\"failed\"\n",
    "\n",
    "    while(True):\n",
    "        a = random.randrange(2,N)\n",
    "        # check iteration\n",
    "        # print(\"attempt\",iter,\": a =\",a)\n",
    "        k = gcd(a,N)\n",
    "        \n",
    "        if(k != 1):\n",
    "            ans0=k\n",
    "            ans1=N//ans0\n",
    "            status = \"founded\"\n",
    "            # check status\n",
    "            # print(status)\n",
    "            break\n",
    "        else:\n",
    "            r = order_finding1(a,N)\n",
    "            g = power(a,r//2)\n",
    "            if(r%2==0 and ((g+1)%N!=0) and N%(g+1)):\n",
    "                ans0=gcd(g+1,N)\n",
    "                ans1=gcd(g-1,N)\n",
    "                status = \"founded\"\n",
    "                # check status\n",
    "                # print(status)\n",
    "                break\n",
    "        # check status\n",
    "        # print(status)\n",
    "        iter+=1\n",
    "    return ans0,ans1"
   ]
  },
  {
   "cell_type": "code",
   "execution_count": 14,
   "metadata": {},
   "outputs": [
    {
     "name": "stdout",
     "output_type": "stream",
     "text": [
      "--------------------\n",
      "factor of N = 1535921\n",
      "p = 5003\n",
      "q = 307\n"
     ]
    }
   ],
   "source": [
    "\"\"\"\n",
    "test 1: \n",
    "p = 3727\n",
    "q = 4999\n",
    "attempts 1\n",
    "time = 13.8s\n",
    "______________\n",
    "test 2:\n",
    "p = 3719\n",
    "q = 5003\n",
    "attempts 1\n",
    "time = 1m 5.4s\n",
    "______________\n",
    "test 3: \n",
    "p = 3727\n",
    "q = 5003\n",
    "attempts = 3\n",
    "time = 2m 32.7s\n",
    "______________\n",
    "\"\"\"\n",
    "\n",
    "# Main program\n",
    "p=307\n",
    "q=5003\n",
    "N = p * q\n",
    "P_bf,Q_bf=ClassicalShorSimulator(N)\n",
    "\n",
    "# Returning answer\n",
    "print(\"--\"*10)\n",
    "print(\"factor of N =\",N)\n",
    "print(\"p =\",P_bf)\n",
    "print(\"q =\",Q_bf)"
   ]
  }
 ],
 "metadata": {
  "kernelspec": {
   "display_name": "CUQC",
   "language": "python",
   "name": "python3"
  },
  "language_info": {
   "codemirror_mode": {
    "name": "ipython",
    "version": 3
   },
   "file_extension": ".py",
   "mimetype": "text/x-python",
   "name": "python",
   "nbconvert_exporter": "python",
   "pygments_lexer": "ipython3",
   "version": "3.12.5"
  }
 },
 "nbformat": 4,
 "nbformat_minor": 2
}
